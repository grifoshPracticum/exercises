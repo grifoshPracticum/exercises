{
 "cells": [
  {
   "cell_type": "code",
   "execution_count": 6,
   "id": "5c6edf8f",
   "metadata": {},
   "outputs": [
    {
     "name": "stdout",
     "output_type": "stream",
     "text": [
      "78\n",
      "78\n",
      "78\n"
     ]
    }
   ],
   "source": [
    "# exercises\n",
    "\n",
    "# 1. Сделать функцию, которая принимает массив чисел, возводит в квадрат каждое и суммирует. Например [2,5,7] = 78\n",
    "\n",
    "my_list = [2, 5, 7]\n",
    "result = sum(x**2 for x in my_list)\n",
    "print(result)\n",
    "\n",
    "\n",
    "my_list = [2, 5, 7]\n",
    "result = 0\n",
    "for x in my_list:\n",
    "    result += x**2\n",
    "print(result)\n",
    "\n",
    "\n",
    "my_list = [2, 5, 7]\n",
    "result = sum(map(lambda x: x**2, my_list))\n",
    "print(result)\n",
    "\n",
    "\n",
    "my_list = [2, 5, 7]\n",
    "result = sum([x**2 for x in my_list])\n",
    "print(result)\n"
   ]
  },
  {
   "cell_type": "code",
   "execution_count": 2,
   "id": "21e66b55",
   "metadata": {},
   "outputs": [
    {
     "ename": "SyntaxError",
     "evalue": "invalid syntax (1424460625.py, line 2)",
     "output_type": "error",
     "traceback": [
      "\u001b[0;36m  Cell \u001b[0;32mIn[2], line 2\u001b[0;36m\u001b[0m\n\u001b[0;31m    записывает в новый массив на первое место, второй и предпоследний на второе и так далее.\u001b[0m\n\u001b[0m               ^\u001b[0m\n\u001b[0;31mSyntaxError\u001b[0m\u001b[0;31m:\u001b[0m invalid syntax\n"
     ]
    }
   ],
   "source": [
    "# 2. Сделать функцию, которая принимает два массива, складывает первый и последний элемент \n",
    "# записывает в новый массив на первое место, второй и предпоследний на второе и так далее.\n",
    "# Например func([1,2,3], [10,20,30])=> [31, 22, 13]\n",
    "\n",
    "\n",
    "\n"
   ]
  },
  {
   "cell_type": "code",
   "execution_count": 4,
   "id": "dddfd82e",
   "metadata": {},
   "outputs": [],
   "source": [
    "# 3.Задача из реального собеседования (очень простая, на разогрев) - \n",
    "# функция принимает строку и выдает тру, если строка является полиндромом \n",
    "# (может читаться задом наперед) и фолс в другом случае.\n",
    "# Например madam - true, mama - false"
   ]
  },
  {
   "cell_type": "code",
   "execution_count": null,
   "id": "e899e868",
   "metadata": {},
   "outputs": [],
   "source": [
    "# 4. Функция принимает массив массивов [[1,2,3], [11,22,33], [111,222,333,444], [5,5,3,2], [3]]. Надо\n",
    "# a. Выдать сумму всех чисел\n",
    "# б. Выдать все в одном массиве: [1,2,3,1,2,3,1,2,3,4,5,5,3,2,3]\n",
    "# в. Выдать массив, массивов, где первый - это все элементы под индексом 0, второй - все элементы под индексом 1, и так далее. Например: [[1,11,111,5,3],[2,22,222,5,None],...]\n",
    "\n",
    "\n",
    "\n"
   ]
  }
 ],
 "metadata": {
  "kernelspec": {
   "display_name": "Python 3 (ipykernel)",
   "language": "python",
   "name": "python3"
  },
  "language_info": {
   "codemirror_mode": {
    "name": "ipython",
    "version": 3
   },
   "file_extension": ".py",
   "mimetype": "text/x-python",
   "name": "python",
   "nbconvert_exporter": "python",
   "pygments_lexer": "ipython3",
   "version": "3.9.16"
  }
 },
 "nbformat": 4,
 "nbformat_minor": 5
}
