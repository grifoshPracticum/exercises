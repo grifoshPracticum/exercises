{
 "cells": [
  {
   "cell_type": "code",
   "execution_count": 1,
   "id": "09f2fb6a",
   "metadata": {},
   "outputs": [
    {
     "name": "stdout",
     "output_type": "stream",
     "text": [
      "4479616176\n",
      "4479593136\n"
     ]
    }
   ],
   "source": [
    "# Является ли строка неизменяемым типом данных в python? \n",
    "s = 'Hello, World!'\n",
    "print(id(s))\n",
    "a = (s.replace(\"o\", \"i\")) # \"Helli, Wurld!\"\n",
    "print(id(a))\n",
    "\n",
    "# Ответ: не является, replace - это другое :) "
   ]
  },
  {
   "cell_type": "code",
   "execution_count": 2,
   "id": "5c6edf8f",
   "metadata": {},
   "outputs": [
    {
     "name": "stdout",
     "output_type": "stream",
     "text": [
      "78\n",
      "78\n"
     ]
    }
   ],
   "source": [
    "# 1. Сделать функцию, которая принимает массив чисел, возводит в квадрат каждое и суммирует. \n",
    "# Например [2,5,7] = 78\n",
    "\n",
    "# func sumMultiply(list):\n",
    "#     return sum(x**2 for x in my_list)\n",
    "\n",
    "# a = [2,5,7]\n",
    "# print(sumMultiply(a))\n",
    "\n",
    "\n",
    "# my_list = [2, 5, 7]\n",
    "# result = 0\n",
    "# for x in my_list:\n",
    "#     result += x**2\n",
    "# print(result)\n",
    "\n",
    "\n",
    "my_list = [2, 5, 7]\n",
    "result = sum(x**2 for x in my_list)\n",
    "print(result)\n",
    "\n",
    "\n",
    "my_list = [2, 5, 7]\n",
    "result = sum([x**2 for x in my_list])\n",
    "print(result)\n"
   ]
  },
  {
   "cell_type": "code",
   "execution_count": 4,
   "id": "21e66b55",
   "metadata": {},
   "outputs": [
    {
     "data": {
      "text/plain": [
       "[31, 22, 13]"
      ]
     },
     "execution_count": 4,
     "metadata": {},
     "output_type": "execute_result"
    }
   ],
   "source": [
    "# 2. Сделать функцию, которая принимает два массива, складывает первый и последний элемент \n",
    "# записывает в новый массив на первое место, второй и предпоследний на второе и так далее.\n",
    "# Например func([1,2,3], [10,20,30])=> [31, 22, 13]\n",
    "\n",
    "\n",
    "def combine_arrays(list1, list2):\n",
    "    new_list = []\n",
    "    for i in range(len(list1)):\n",
    "        new_element = list1[i] + list2[-i-1]\n",
    "        new_list.append(new_element)\n",
    "    return new_list\n",
    "\n",
    "\n",
    "combine_arrays([1,2,3], [10,20,30])\n"
   ]
  },
  {
   "cell_type": "code",
   "execution_count": 8,
   "id": "e592b479",
   "metadata": {},
   "outputs": [
    {
     "data": {
      "text/plain": [
       "False"
      ]
     },
     "execution_count": 8,
     "metadata": {},
     "output_type": "execute_result"
    }
   ],
   "source": [
    "# 3.Задача из реального собеседования (очень простая, на разогрев) - \n",
    "# функция принимает строку и выдает тру, если строка является полиндромом \n",
    "# (может читаться задом наперед) и фолс в другом случае.\n",
    "# Например madam - true, mama - false\n",
    "\n",
    "def is_palindrome(word):\n",
    "    return s == s[::-1]\n",
    "\n",
    "is_palindrome(\"madam\")"
   ]
  },
  {
   "cell_type": "code",
   "execution_count": 9,
   "id": "f795be37",
   "metadata": {},
   "outputs": [],
   "source": [
    "# 4. Функция принимает массив массивов [[1,2,3], [11,22,33], [111,222,333,444], [5,5,3,2], [3]]. Надо\n",
    "# a. Выдать сумму всех чисел\n",
    "# б. Выдать все в одном массиве: [1,2,3,1,2,3,1,2,3,4,5,5,3,2,3]\n",
    "# в. Выдать массив, массивов, где первый - это все элементы под индексом 0, второй - все элементы под индексом 1, и так далее. Например: [[1,11,111,5,3],[2,22,222,5,None],...]\n",
    "\n",
    "pass\n"
   ]
  },
  {
   "cell_type": "code",
   "execution_count": null,
   "id": "a596055b",
   "metadata": {},
   "outputs": [],
   "source": []
  }
 ],
 "metadata": {
  "kernelspec": {
   "display_name": "Python 3 (ipykernel)",
   "language": "python",
   "name": "python3"
  },
  "language_info": {
   "codemirror_mode": {
    "name": "ipython",
    "version": 3
   },
   "file_extension": ".py",
   "mimetype": "text/x-python",
   "name": "python",
   "nbconvert_exporter": "python",
   "pygments_lexer": "ipython3",
   "version": "3.9.16"
  }
 },
 "nbformat": 4,
 "nbformat_minor": 5
}
