{
 "cells": [
  {
   "cell_type": "code",
   "execution_count": 6,
   "id": "21e66b55",
   "metadata": {},
   "outputs": [
    {
     "ename": "ValueError",
     "evalue": "Error: count of entries in lists does not match",
     "output_type": "error",
     "traceback": [
      "\u001b[0;31m---------------------------------------------------------------------------\u001b[0m",
      "\u001b[0;31mValueError\u001b[0m                                Traceback (most recent call last)",
      "Cell \u001b[0;32mIn[6], line 30\u001b[0m\n\u001b[1;32m     27\u001b[0m     new_list \u001b[38;5;241m=\u001b[39m [list1[i] \u001b[38;5;241m+\u001b[39m list2[i] \u001b[38;5;28;01mfor\u001b[39;00m i, element \u001b[38;5;129;01min\u001b[39;00m \u001b[38;5;28menumerate\u001b[39m(list1)]\n\u001b[1;32m     28\u001b[0m     \u001b[38;5;28;01mreturn\u001b[39;00m new_list\n\u001b[0;32m---> 30\u001b[0m \u001b[43mcombine_lists_by_element\u001b[49m\u001b[43m(\u001b[49m\u001b[43m[\u001b[49m\u001b[38;5;241;43m1\u001b[39;49m\u001b[43m,\u001b[49m\u001b[38;5;241;43m2\u001b[39;49m\u001b[43m,\u001b[49m\u001b[38;5;241;43m3\u001b[39;49m\u001b[43m,\u001b[49m\u001b[38;5;241;43m4\u001b[39;49m\u001b[43m]\u001b[49m\u001b[43m,\u001b[49m\u001b[43m \u001b[49m\u001b[43m[\u001b[49m\u001b[38;5;241;43m10\u001b[39;49m\u001b[43m,\u001b[49m\u001b[38;5;241;43m20\u001b[39;49m\u001b[43m,\u001b[49m\u001b[38;5;241;43m30\u001b[39;49m\u001b[43m]\u001b[49m\u001b[43m)\u001b[49m\n\u001b[1;32m     34\u001b[0m \u001b[38;5;66;03m# def combine_lists_by_element2(list1, list2):\u001b[39;00m\n\u001b[1;32m     35\u001b[0m \u001b[38;5;66;03m#     new_list = []\u001b[39;00m\n\u001b[1;32m     36\u001b[0m \u001b[38;5;66;03m#     if len(list1) != len(list2): \u001b[39;00m\n\u001b[0;32m   (...)\u001b[0m\n\u001b[1;32m     64\u001b[0m \u001b[38;5;66;03m# Как итерироваться по 2 массивам? \u001b[39;00m\n\u001b[1;32m     65\u001b[0m \u001b[38;5;66;03m# Говорили, что .append - медленный способ\u001b[39;00m\n",
      "Cell \u001b[0;32mIn[6], line 25\u001b[0m, in \u001b[0;36mcombine_lists_by_element\u001b[0;34m(list1, list2)\u001b[0m\n\u001b[1;32m     23\u001b[0m \u001b[38;5;28;01mdef\u001b[39;00m \u001b[38;5;21mcombine_lists_by_element\u001b[39m(list1, list2):\n\u001b[1;32m     24\u001b[0m     \u001b[38;5;28;01mif\u001b[39;00m \u001b[38;5;28mlen\u001b[39m(list1) \u001b[38;5;241m!=\u001b[39m \u001b[38;5;28mlen\u001b[39m(list2):\n\u001b[0;32m---> 25\u001b[0m         \u001b[38;5;28;01mraise\u001b[39;00m \u001b[38;5;167;01mValueError\u001b[39;00m(\u001b[38;5;124m'\u001b[39m\u001b[38;5;124mError: count of entries in lists does not match\u001b[39m\u001b[38;5;124m'\u001b[39m)\n\u001b[1;32m     27\u001b[0m     new_list \u001b[38;5;241m=\u001b[39m [list1[i] \u001b[38;5;241m+\u001b[39m list2[i] \u001b[38;5;28;01mfor\u001b[39;00m i, element \u001b[38;5;129;01min\u001b[39;00m \u001b[38;5;28menumerate\u001b[39m(list1)]\n\u001b[1;32m     28\u001b[0m     \u001b[38;5;28;01mreturn\u001b[39;00m new_list\n",
      "\u001b[0;31mValueError\u001b[0m: Error: count of entries in lists does not match"
     ]
    }
   ],
   "source": [
    "\n",
    "\n"
   ]
  },
  {
   "cell_type": "code",
   "execution_count": 23,
   "id": "e592b479",
   "metadata": {},
   "outputs": [
    {
     "data": {
      "text/plain": [
       "False"
      ]
     },
     "execution_count": 23,
     "metadata": {},
     "output_type": "execute_result"
    }
   ],
   "source": [
    "# 2ой круг :) \n",
    "\n",
    "# Задача из реального собеседования (очень простая, на разогрев) - функция принимает строку и выдает тру, \n",
    "# если строка является полиндромом (может читаться задом наперед) и false в другом случае.\n",
    "# Например madam - true, mama - false\n",
    "\n",
    "# def is_palindrome(word):\n",
    "#     return word == word[::-1]\n",
    "\n",
    "# is_palindrome(\"madam\")\n",
    "\n",
    "# python iterate with string index\n",
    "def is_palindrome(word):\n",
    "    for i, element in enumerate(word): \n",
    "        if element[0] != word[::-1]:\n",
    "            return False\n",
    "        elif element[1] != word[::-2]:\n",
    "            return False\n",
    "        else: \n",
    "            return True\n",
    "\n",
    "is_palindrome(\"racecar\")   "
   ]
  },
  {
   "cell_type": "code",
   "execution_count": null,
   "id": "26647633",
   "metadata": {},
   "outputs": [],
   "source": [
    "Program to find the sum of all integers in a list \n",
    "Input: [1, 2, 3, 4, 5]\n",
    "Output: 15\n",
    "\n",
    "Input: [0, -2, 4, 6, -8]\n",
    "Output: 0\n",
    "    \n",
    "pass"
   ]
  },
  {
   "cell_type": "code",
   "execution_count": null,
   "id": "7357a783",
   "metadata": {},
   "outputs": [],
   "source": [
    "Program to find the length of the longest string in a list\n",
    "\n",
    "Input: [\"apple\", \"banana\", \"cherry\"]\n",
    "Output: 6\n",
    "\n",
    "Input: [\"cat\", \"dog\", \"elephant\", \"lion\"]\n",
    "Output: 8\n",
    "\n",
    "pass"
   ]
  },
  {
   "cell_type": "code",
   "execution_count": null,
   "id": "77df9697",
   "metadata": {},
   "outputs": [],
   "source": [
    "Program to extract even integers from a list\n",
    "Input: [1, 2, 3, 4, 5, 6]\n",
    "Output: [2, 4, 6]\n",
    "\n",
    "Input: [11, 20, 33, 45, 56, 61]\n",
    "Output: [20, 56]\n",
    "    \n",
    "pass\n"
   ]
  },
  {
   "cell_type": "code",
   "execution_count": null,
   "id": "960b4326",
   "metadata": {},
   "outputs": [],
   "source": [
    "Program to find the intersection of two lists\n",
    "Input: [1, 2, 3, 4, 5], [3, 4, 5, 6, 7]\n",
    "Output: [3, 4, 5]\n",
    "\n",
    "Input: [10, 20, 30], [40, 50, 60]\n",
    "Output: []\n",
    "    \n",
    "pass\n"
   ]
  },
  {
   "cell_type": "code",
   "execution_count": null,
   "id": "81d0c663",
   "metadata": {},
   "outputs": [],
   "source": [
    "Program to extract unique elements from a list\n",
    "\n",
    "Input: [1, 2, 3, 1, 2, 4, 5, 6]\n",
    "Output: [1, 2, 3, 4, 5, 6]\n",
    "\n",
    "Input: [10, 20, 10, 30, 20, 40]\n",
    "Output: [10, 20, 30, 40]\n",
    "\n",
    "    \n",
    "pass"
   ]
  },
  {
   "cell_type": "code",
   "execution_count": null,
   "id": "21ccbe97",
   "metadata": {},
   "outputs": [],
   "source": [
    "Program to sort a list of integers in ascending order\n",
    "Input: [3, 1, 4, 2, 5]\n",
    "Output: [1, 2, 3, 4, 5]\n",
    "\n",
    "Input: [10, -5, 0, 20, 15]\n",
    "Output: [-5, 0, 10, 15, 20]\n",
    "    \n",
    "pass"
   ]
  },
  {
   "cell_type": "code",
   "execution_count": null,
   "id": "f4bf61d4",
   "metadata": {},
   "outputs": [],
   "source": [
    "Program to extract strings that start with the letter \"a\"\n",
    "\n",
    "Input: [\"apple\", \"banana\", \"apricot\", \"cherry\"]\n",
    "Output: [\"apple\", \"apricot\"]\n",
    "\n",
    "Input: [\"dog\", \"cat\", \"ant\", \"bird\"]\n",
    "Output: [\"ant\"]\n",
    "    \n",
    "pass"
   ]
  },
  {
   "cell_type": "code",
   "execution_count": null,
   "id": "b00445c1",
   "metadata": {},
   "outputs": [],
   "source": [
    "Program to find the product of all integers in a list\n",
    "Input: [1, 2, 3, 4, 5]\n",
    "Output: 120\n",
    "\n",
    "Input: [0, -2, 4, 6, -8]\n",
    "Output: 0\n",
    "    \n",
    "pass"
   ]
  },
  {
   "cell_type": "code",
   "execution_count": null,
   "id": "3144e6c4",
   "metadata": {},
   "outputs": [],
   "source": [
    "Program to reverse a list of strings\n",
    "Input: [\"apple\", \"banana\", \"cherry\"]\n",
    "Output: [\"cherry\", \"banana\", \"apple\"]\n",
    "\n",
    "Input: [\"cat\", \"dog\", \"elephant\", \"lion\"]\n",
    "Output: [\"lion\", \"elephant\", \"dog\", \"cat\"]\n",
    "    \n",
    "pass"
   ]
  },
  {
   "cell_type": "code",
   "execution_count": null,
   "id": "05ece222",
   "metadata": {},
   "outputs": [],
   "source": [
    "Program to extract elements that are divisible by 3\n",
    "Input: [1, 2, 3, 4, 5, 6]\n",
    "Output: [3, 6]\n",
    "\n",
    "Input: [10, 20, 33, 45, 56, 61]\n",
    "Output: [33, 45, 56]\n",
    "    \n",
    "pass"
   ]
  }
 ],
 "metadata": {
  "kernelspec": {
   "display_name": "Python 3 (ipykernel)",
   "language": "python",
   "name": "python3"
  },
  "language_info": {
   "codemirror_mode": {
    "name": "ipython",
    "version": 3
   },
   "file_extension": ".py",
   "mimetype": "text/x-python",
   "name": "python",
   "nbconvert_exporter": "python",
   "pygments_lexer": "ipython3",
   "version": "3.9.16"
  }
 },
 "nbformat": 4,
 "nbformat_minor": 5
}
